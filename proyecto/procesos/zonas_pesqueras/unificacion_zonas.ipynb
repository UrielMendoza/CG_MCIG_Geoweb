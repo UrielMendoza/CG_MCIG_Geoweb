{
 "cells": [
  {
   "cell_type": "code",
   "execution_count": 2,
   "metadata": {},
   "outputs": [],
   "source": [
    "# Script de unificacion de zonas pesqueras, por medio del nombre de atributo nuevo de acuerdo a su nombre de carpeta"
   ]
  },
  {
   "cell_type": "code",
   "execution_count": 21,
   "metadata": {},
   "outputs": [],
   "source": [
    "import geopandas as gpd\n",
    "from glob import glob\n",
    "import pandas as pd"
   ]
  },
  {
   "cell_type": "code",
   "execution_count": 6,
   "metadata": {},
   "outputs": [],
   "source": [
    "# Enlista directorios\n",
    "\n",
    "carpetas = glob('./Zona de pesca en la ecorregión Golfo de California 2006/*/*')"
   ]
  },
  {
   "cell_type": "code",
   "execution_count": 7,
   "metadata": {},
   "outputs": [
    {
     "data": {
      "text/plain": [
       "['./Zona de pesca en la ecorregión Golfo de California 2006\\\\Zona de pesca en la ecorregión Golfo de California 2006\\\\Granjas de camarón',\n",
       " './Zona de pesca en la ecorregión Golfo de California 2006\\\\Zona de pesca en la ecorregión Golfo de California 2006\\\\Zona de pesca de calamar',\n",
       " './Zona de pesca en la ecorregión Golfo de California 2006\\\\Zona de pesca en la ecorregión Golfo de California 2006\\\\Zona de pesca de crustáceos',\n",
       " './Zona de pesca en la ecorregión Golfo de California 2006\\\\Zona de pesca en la ecorregión Golfo de California 2006\\\\Zona de pesca de equinodermos',\n",
       " './Zona de pesca en la ecorregión Golfo de California 2006\\\\Zona de pesca en la ecorregión Golfo de California 2006\\\\Zona de pesca de escama',\n",
       " './Zona de pesca en la ecorregión Golfo de California 2006\\\\Zona de pesca en la ecorregión Golfo de California 2006\\\\Zona de pesca de moluscos',\n",
       " './Zona de pesca en la ecorregión Golfo de California 2006\\\\Zona de pesca en la ecorregión Golfo de California 2006\\\\Zona de pesca de peces cartilaginosos',\n",
       " './Zona de pesca en la ecorregión Golfo de California 2006\\\\Zona de pesca en la ecorregión Golfo de California 2006\\\\Zona de pesca de sardina',\n",
       " './Zona de pesca en la ecorregión Golfo de California 2006\\\\Zona de pesca en la ecorregión Golfo de California 2006\\\\Zona de pesca deportiva',\n",
       " './Zona de pesca en la ecorregión Golfo de California 2006\\\\Zona de pesca en la ecorregión Golfo de California 2006\\\\Zona de pesca industrial de camarón',\n",
       " './Zona de pesca en la ecorregión Golfo de California 2006\\\\Zona de pesca en la ecorregión Golfo de California 2006\\\\Zona de pesca ribereña de camarón',\n",
       " './Zona de pesca en la ecorregión Golfo de California 2006\\\\Zona de pesca en la ecorregión Golfo de California 2006\\\\Zona de productividad primaria',\n",
       " './Zona de pesca en la ecorregión Golfo de California 2006\\\\Zona de pesca en la ecorregión Golfo de California 2006\\\\Zona de reclutamiento de sardina']"
      ]
     },
     "execution_count": 7,
     "metadata": {},
     "output_type": "execute_result"
    }
   ],
   "source": [
    "carpetas"
   ]
  },
  {
   "cell_type": "code",
   "execution_count": 9,
   "metadata": {},
   "outputs": [
    {
     "name": "stdout",
     "output_type": "stream",
     "text": [
      "['granjas_de_camaron', 'zona_de_pesca_de_calamar', 'zona_de_pesca_de_crustaceos', 'zona_de_pesca_de_equinodermos', 'zona_de_pesca_de_escama', 'zona_de_pesca_de_moluscos', 'zona_de_pesca_de_peces_cartilaginosos', 'zona_de_pesca_de_sardina', 'zona_de_pesca_deportiva', 'zona_de_pesca_industrial_de_camaron', 'zona_de_pesca_ribereña_de_camaron', 'zona_de_productividad_primaria', 'zona_de_reclutamiento_de_sardina']\n"
     ]
    }
   ],
   "source": [
    "# Obtiene los nombres de las zonas de acuerdo a las carpetas, el ukltimo elemento de la lista y los guarda en una lista\n",
    "zonas = []\n",
    "for carpeta in carpetas:\n",
    "    nombre = carpeta.split('\\\\')[-1]\n",
    "    # EL nombre sustituye los espacios por guiones bajos\n",
    "    nombre = nombre.replace(' ', '_')\n",
    "    # Quita mayusculas\n",
    "    nombre = nombre.lower()\n",
    "    # Quita todos los acentos\n",
    "    nombre = nombre.replace('á', 'a').replace('é', 'e').replace('í', 'i').replace('ó', 'o').replace('ú', 'u')\n",
    "    # Quita caracteres especiales\n",
    "    nombre = nombre.replace('(', '').replace(')', '').replace(',', '').replace('.', '')\n",
    "    zonas.append(nombre)\n",
    "\n",
    "print(zonas)\n",
    "    "
   ]
  },
  {
   "cell_type": "code",
   "execution_count": 19,
   "metadata": {},
   "outputs": [
    {
     "name": "stdout",
     "output_type": "stream",
     "text": [
      "./Zona de pesca en la ecorregión Golfo de California 2006\\Zona de pesca en la ecorregión Golfo de California 2006\\Granjas de camarón\\geodat-ecr-gc-gc\\geodat-ecr-gc-gc.shp\n"
     ]
    },
    {
     "name": "stderr",
     "output_type": "stream",
     "text": [
      "d:\\Archivos_de_Programa\\anaconda3\\envs\\geomatic\\lib\\site-packages\\geopandas\\io\\file.py:362: FutureWarning: pandas.Int64Index is deprecated and will be removed from pandas in a future version. Use pandas.Index with the appropriate dtype instead.\n",
      "  pd.Int64Index,\n"
     ]
    },
    {
     "name": "stdout",
     "output_type": "stream",
     "text": [
      "Guardado: ./Zona de pesca en la ecorregión Golfo de California 2006\\Zona de pesca en la ecorregión Golfo de California 2006\\Granjas de camarón\\geodat-ecr-gc-gc\\geodat-ecr-gc-gc_zona.shp\n",
      "./Zona de pesca en la ecorregión Golfo de California 2006\\Zona de pesca en la ecorregión Golfo de California 2006\\Zona de pesca de calamar\\geodat-ecr-gc-zpcal\\geodat-ecr-gc-zpcal.shp\n"
     ]
    },
    {
     "name": "stderr",
     "output_type": "stream",
     "text": [
      "d:\\Archivos_de_Programa\\anaconda3\\envs\\geomatic\\lib\\site-packages\\geopandas\\io\\file.py:362: FutureWarning: pandas.Int64Index is deprecated and will be removed from pandas in a future version. Use pandas.Index with the appropriate dtype instead.\n",
      "  pd.Int64Index,\n"
     ]
    },
    {
     "name": "stdout",
     "output_type": "stream",
     "text": [
      "Guardado: ./Zona de pesca en la ecorregión Golfo de California 2006\\Zona de pesca en la ecorregión Golfo de California 2006\\Zona de pesca de calamar\\geodat-ecr-gc-zpcal\\geodat-ecr-gc-zpcal_zona.shp\n",
      "./Zona de pesca en la ecorregión Golfo de California 2006\\Zona de pesca en la ecorregión Golfo de California 2006\\Zona de pesca de crustáceos\\geodat-ecr-gc-zpc\\geodat-ecr-gc-zpc.shp\n"
     ]
    },
    {
     "name": "stderr",
     "output_type": "stream",
     "text": [
      "d:\\Archivos_de_Programa\\anaconda3\\envs\\geomatic\\lib\\site-packages\\geopandas\\io\\file.py:362: FutureWarning: pandas.Int64Index is deprecated and will be removed from pandas in a future version. Use pandas.Index with the appropriate dtype instead.\n",
      "  pd.Int64Index,\n"
     ]
    },
    {
     "name": "stdout",
     "output_type": "stream",
     "text": [
      "Guardado: ./Zona de pesca en la ecorregión Golfo de California 2006\\Zona de pesca en la ecorregión Golfo de California 2006\\Zona de pesca de crustáceos\\geodat-ecr-gc-zpc\\geodat-ecr-gc-zpc_zona.shp\n",
      "./Zona de pesca en la ecorregión Golfo de California 2006\\Zona de pesca en la ecorregión Golfo de California 2006\\Zona de pesca de equinodermos\\geodat-ecr-gc-zpeq\\geodat-ecr-gc-zpeq.shp\n",
      "Guardado: ./Zona de pesca en la ecorregión Golfo de California 2006\\Zona de pesca en la ecorregión Golfo de California 2006\\Zona de pesca de equinodermos\\geodat-ecr-gc-zpeq\\geodat-ecr-gc-zpeq_zona.shp\n",
      "./Zona de pesca en la ecorregión Golfo de California 2006\\Zona de pesca en la ecorregión Golfo de California 2006\\Zona de pesca de escama\\geodat-ecr-gc-zpe\\geodat-ecr-gc-zpe.shp\n"
     ]
    },
    {
     "name": "stderr",
     "output_type": "stream",
     "text": [
      "d:\\Archivos_de_Programa\\anaconda3\\envs\\geomatic\\lib\\site-packages\\geopandas\\io\\file.py:362: FutureWarning: pandas.Int64Index is deprecated and will be removed from pandas in a future version. Use pandas.Index with the appropriate dtype instead.\n",
      "  pd.Int64Index,\n",
      "d:\\Archivos_de_Programa\\anaconda3\\envs\\geomatic\\lib\\site-packages\\geopandas\\io\\file.py:362: FutureWarning: pandas.Int64Index is deprecated and will be removed from pandas in a future version. Use pandas.Index with the appropriate dtype instead.\n",
      "  pd.Int64Index,\n"
     ]
    },
    {
     "name": "stdout",
     "output_type": "stream",
     "text": [
      "Guardado: ./Zona de pesca en la ecorregión Golfo de California 2006\\Zona de pesca en la ecorregión Golfo de California 2006\\Zona de pesca de escama\\geodat-ecr-gc-zpe\\geodat-ecr-gc-zpe_zona.shp\n",
      "./Zona de pesca en la ecorregión Golfo de California 2006\\Zona de pesca en la ecorregión Golfo de California 2006\\Zona de pesca de moluscos\\geodat-ecr-gc-zpm\\geodat-ecr-gc-zpm.shp\n"
     ]
    },
    {
     "name": "stderr",
     "output_type": "stream",
     "text": [
      "d:\\Archivos_de_Programa\\anaconda3\\envs\\geomatic\\lib\\site-packages\\geopandas\\io\\file.py:362: FutureWarning: pandas.Int64Index is deprecated and will be removed from pandas in a future version. Use pandas.Index with the appropriate dtype instead.\n",
      "  pd.Int64Index,\n"
     ]
    },
    {
     "name": "stdout",
     "output_type": "stream",
     "text": [
      "Guardado: ./Zona de pesca en la ecorregión Golfo de California 2006\\Zona de pesca en la ecorregión Golfo de California 2006\\Zona de pesca de moluscos\\geodat-ecr-gc-zpm\\geodat-ecr-gc-zpm_zona.shp\n",
      "./Zona de pesca en la ecorregión Golfo de California 2006\\Zona de pesca en la ecorregión Golfo de California 2006\\Zona de pesca de peces cartilaginosos\\geodat-ecr-gc-zpcr\\geodat-ecr-gc-zpcr.shp\n"
     ]
    },
    {
     "name": "stderr",
     "output_type": "stream",
     "text": [
      "d:\\Archivos_de_Programa\\anaconda3\\envs\\geomatic\\lib\\site-packages\\geopandas\\io\\file.py:362: FutureWarning: pandas.Int64Index is deprecated and will be removed from pandas in a future version. Use pandas.Index with the appropriate dtype instead.\n",
      "  pd.Int64Index,\n"
     ]
    },
    {
     "name": "stdout",
     "output_type": "stream",
     "text": [
      "Guardado: ./Zona de pesca en la ecorregión Golfo de California 2006\\Zona de pesca en la ecorregión Golfo de California 2006\\Zona de pesca de peces cartilaginosos\\geodat-ecr-gc-zpcr\\geodat-ecr-gc-zpcr_zona.shp\n",
      "./Zona de pesca en la ecorregión Golfo de California 2006\\Zona de pesca en la ecorregión Golfo de California 2006\\Zona de pesca de sardina\\geodat-ecr-gc-zps\\geodat-ecr-gc-zps.shp\n"
     ]
    },
    {
     "name": "stderr",
     "output_type": "stream",
     "text": [
      "d:\\Archivos_de_Programa\\anaconda3\\envs\\geomatic\\lib\\site-packages\\geopandas\\io\\file.py:362: FutureWarning: pandas.Int64Index is deprecated and will be removed from pandas in a future version. Use pandas.Index with the appropriate dtype instead.\n",
      "  pd.Int64Index,\n"
     ]
    },
    {
     "name": "stdout",
     "output_type": "stream",
     "text": [
      "Guardado: ./Zona de pesca en la ecorregión Golfo de California 2006\\Zona de pesca en la ecorregión Golfo de California 2006\\Zona de pesca de sardina\\geodat-ecr-gc-zps\\geodat-ecr-gc-zps_zona.shp\n",
      "./Zona de pesca en la ecorregión Golfo de California 2006\\Zona de pesca en la ecorregión Golfo de California 2006\\Zona de pesca deportiva\\geodat-ecr-gc-zpd\\geodat-ecr-gc-zpd.shp\n",
      "Guardado: ./Zona de pesca en la ecorregión Golfo de California 2006\\Zona de pesca en la ecorregión Golfo de California 2006\\Zona de pesca deportiva\\geodat-ecr-gc-zpd\\geodat-ecr-gc-zpd_zona.shp\n",
      "./Zona de pesca en la ecorregión Golfo de California 2006\\Zona de pesca en la ecorregión Golfo de California 2006\\Zona de pesca industrial de camarón\\geodat-ecr-gc-zpca\\geodat-ecr-gc-zpca.shp\n",
      "Guardado: ./Zona de pesca en la ecorregión Golfo de California 2006\\Zona de pesca en la ecorregión Golfo de California 2006\\Zona de pesca industrial de camarón\\geodat-ecr-gc-zpca\\geodat-ecr-gc-zpca_zona.shp\n",
      "./Zona de pesca en la ecorregión Golfo de California 2006\\Zona de pesca en la ecorregión Golfo de California 2006\\Zona de pesca ribereña de camarón\\geodat-ecr-gc-zpcrib\\geodat-ecr-gc-zpcrib.shp\n"
     ]
    },
    {
     "name": "stderr",
     "output_type": "stream",
     "text": [
      "d:\\Archivos_de_Programa\\anaconda3\\envs\\geomatic\\lib\\site-packages\\geopandas\\io\\file.py:362: FutureWarning: pandas.Int64Index is deprecated and will be removed from pandas in a future version. Use pandas.Index with the appropriate dtype instead.\n",
      "  pd.Int64Index,\n",
      "d:\\Archivos_de_Programa\\anaconda3\\envs\\geomatic\\lib\\site-packages\\geopandas\\io\\file.py:362: FutureWarning: pandas.Int64Index is deprecated and will be removed from pandas in a future version. Use pandas.Index with the appropriate dtype instead.\n",
      "  pd.Int64Index,\n",
      "d:\\Archivos_de_Programa\\anaconda3\\envs\\geomatic\\lib\\site-packages\\geopandas\\io\\file.py:362: FutureWarning: pandas.Int64Index is deprecated and will be removed from pandas in a future version. Use pandas.Index with the appropriate dtype instead.\n",
      "  pd.Int64Index,\n"
     ]
    },
    {
     "name": "stdout",
     "output_type": "stream",
     "text": [
      "Guardado: ./Zona de pesca en la ecorregión Golfo de California 2006\\Zona de pesca en la ecorregión Golfo de California 2006\\Zona de pesca ribereña de camarón\\geodat-ecr-gc-zpcrib\\geodat-ecr-gc-zpcrib_zona.shp\n",
      "./Zona de pesca en la ecorregión Golfo de California 2006\\Zona de pesca en la ecorregión Golfo de California 2006\\Zona de productividad primaria\\geodat-ecr-gc-zep\\geodat-ecr-gc-zep.shp\n"
     ]
    },
    {
     "name": "stderr",
     "output_type": "stream",
     "text": [
      "d:\\Archivos_de_Programa\\anaconda3\\envs\\geomatic\\lib\\site-packages\\geopandas\\io\\file.py:362: FutureWarning: pandas.Int64Index is deprecated and will be removed from pandas in a future version. Use pandas.Index with the appropriate dtype instead.\n",
      "  pd.Int64Index,\n"
     ]
    },
    {
     "name": "stdout",
     "output_type": "stream",
     "text": [
      "Guardado: ./Zona de pesca en la ecorregión Golfo de California 2006\\Zona de pesca en la ecorregión Golfo de California 2006\\Zona de productividad primaria\\geodat-ecr-gc-zep\\geodat-ecr-gc-zep_zona.shp\n",
      "./Zona de pesca en la ecorregión Golfo de California 2006\\Zona de pesca en la ecorregión Golfo de California 2006\\Zona de reclutamiento de sardina\\geodat-ecr-gc-zrs\\geodat-ecr-gc-zrs.shp\n"
     ]
    },
    {
     "name": "stderr",
     "output_type": "stream",
     "text": [
      "d:\\Archivos_de_Programa\\anaconda3\\envs\\geomatic\\lib\\site-packages\\geopandas\\io\\file.py:362: FutureWarning: pandas.Int64Index is deprecated and will be removed from pandas in a future version. Use pandas.Index with the appropriate dtype instead.\n",
      "  pd.Int64Index,\n"
     ]
    },
    {
     "name": "stdout",
     "output_type": "stream",
     "text": [
      "Guardado: ./Zona de pesca en la ecorregión Golfo de California 2006\\Zona de pesca en la ecorregión Golfo de California 2006\\Zona de reclutamiento de sardina\\geodat-ecr-gc-zrs\\geodat-ecr-gc-zrs_zona.shp\n"
     ]
    }
   ],
   "source": [
    "# Intera sobre las carpetas para abrir los shapefiles con geopandas y agregar un nuevo campo con el nombre de la zona en cada uno\n",
    "zonas_shp = []\n",
    "for carpeta, zona in zip(carpetas, zonas):\n",
    "    # Enlista los archivos shapefile\n",
    "    archivos = glob(carpeta + '\\\\*\\\\*.shp')[0]\n",
    "    print(archivos)\n",
    "    # Abre el shapefile\n",
    "    gdf = gpd.read_file(archivos)\n",
    "    # Agrega un campo con el nombre de la zona\n",
    "    gdf['zona'] = zona\n",
    "    # Guarda el shapefile con el nuevo campo en la misma carpeta con el subfijo _zona\n",
    "    gdf.to_file(archivos.replace('.shp', '_zona.shp'))\n",
    "    print('Guardado:', archivos.replace('.shp', '_zona.shp'))\n",
    "    # Guarda los geoDataFrames en una lista\n",
    "    zonas_shp.append(gdf)\n",
    "    \n",
    "    "
   ]
  },
  {
   "cell_type": "code",
   "execution_count": 22,
   "metadata": {},
   "outputs": [
    {
     "name": "stdout",
     "output_type": "stream",
     "text": [
      "               LAYER       DESCRIPCIO     ID        AREA  PERIMETER  HECTARES  \\\n",
      "0  Unknown Area Type  Granja Acuicola  147.0  539501.341   4224.078    53.950   \n",
      "1  Unknown Area Type  Granja Acuicola  147.0    6833.459    642.902     0.683   \n",
      "2  Unknown Area Type  Granja Acuicola  147.0    1455.501    189.987     0.146   \n",
      "3  Unknown Area Type  Granja Acuicola  147.0    7239.998    405.641     0.724   \n",
      "4  Unknown Area Type  Granja Acuicola  147.0    8383.641    362.713     0.838   \n",
      "\n",
      "                                          REFERENCIA  COSTO  \\\n",
      "0  Foto interpretacion y proceso de imagenes de s...  142.0   \n",
      "1  Foto interpretacion y proceso de imagenes de s...  142.0   \n",
      "2  Foto interpretacion y proceso de imagenes de s...  142.0   \n",
      "3  Foto interpretacion y proceso de imagenes de s...  142.0   \n",
      "4  Foto interpretacion y proceso de imagenes de s...  142.0   \n",
      "\n",
      "                                            geometry                zona  ...  \\\n",
      "0  POLYGON ((-110.86931 27.97953, -110.86331 27.9...  granjas_de_camaron  ...   \n",
      "1  POLYGON ((-111.05312 27.96101, -111.05294 27.9...  granjas_de_camaron  ...   \n",
      "2  POLYGON ((-111.05312 27.96101, -111.05276 27.9...  granjas_de_camaron  ...   \n",
      "3  POLYGON ((-111.05115 27.96029, -111.05037 27.9...  granjas_de_camaron  ...   \n",
      "4  POLYGON ((-111.05128 27.95884, -111.05037 27.9...  granjas_de_camaron  ...   \n",
      "\n",
      "  COUNT  GRUPO ESPECIES LOCALIDAD META ID_REG  ID_MARXAN  ABREV ID_REGION  \\\n",
      "0   NaN    NaN      NaN       NaN  NaN    NaN        NaN    NaN       NaN   \n",
      "1   NaN    NaN      NaN       NaN  NaN    NaN        NaN    NaN       NaN   \n",
      "2   NaN    NaN      NaN       NaN  NaN    NaN        NaN    NaN       NaN   \n",
      "3   NaN    NaN      NaN       NaN  NaN    NaN        NaN    NaN       NaN   \n",
      "4   NaN    NaN      NaN       NaN  NaN    NaN        NaN    NaN       NaN   \n",
      "\n",
      "   ID_TARGET  \n",
      "0        NaN  \n",
      "1        NaN  \n",
      "2        NaN  \n",
      "3        NaN  \n",
      "4        NaN  \n",
      "\n",
      "[5 rows x 21 columns]\n"
     ]
    },
    {
     "name": "stderr",
     "output_type": "stream",
     "text": [
      "d:\\Archivos_de_Programa\\anaconda3\\envs\\geomatic\\lib\\site-packages\\geopandas\\plotting.py:51: ShapelyDeprecationWarning: The 'type' attribute is deprecated, and will be removed in the future. You can use the 'geom_type' attribute instead.\n",
      "  if geom is not None and geom.type.startswith(prefix) and not geom.is_empty:\n"
     ]
    },
    {
     "data": {
      "text/plain": [
       "<AxesSubplot:>"
      ]
     },
     "execution_count": 22,
     "metadata": {},
     "output_type": "execute_result"
    },
    {
     "data": {
      "image/png": "[encoded data removed]",
      "text/plain": [
       "<Figure size 640x480 with 1 Axes>"
      ]
     },
     "metadata": {},
     "output_type": "display_data"
    }
   ],
   "source": [
    "# Une todos los shapefiles en un solo geoDataFrame\n",
    "gdf = gpd.GeoDataFrame(pd.concat(zonas_shp))\n",
    "\n",
    "# Imprme el geoDataFrame\n",
    "print(gdf.head())\n",
    "\n",
    "# Plotea el geoDataFrame\n",
    "gdf.plot()"
   ]
  },
  {
   "cell_type": "code",
   "execution_count": 23,
   "metadata": {},
   "outputs": [
    {
     "name": "stderr",
     "output_type": "stream",
     "text": [
      "d:\\Archivos_de_Programa\\anaconda3\\envs\\geomatic\\lib\\site-packages\\geopandas\\io\\file.py:362: FutureWarning: pandas.Int64Index is deprecated and will be removed from pandas in a future version. Use pandas.Index with the appropriate dtype instead.\n",
      "  pd.Int64Index,\n"
     ]
    }
   ],
   "source": [
    "import os\n",
    "# Crear un nuevo directorio para guardar los shapefiles unidos\n",
    "os.makedirs('ZPE_GCal_2006', exist_ok=True)\n",
    "# Guarda el geoDataFrame en un archivo shapefile dentro del nuevo directorio\n",
    "gdf.to_file('ZPE_GCal_2006/ZPE_GCal_2006.shp')"
   ]
  }
 ],
 "metadata": {
  "kernelspec": {
   "display_name": "geomatic",
   "language": "python",
   "name": "python3"
  },
  "language_info": {
   "codemirror_mode": {
    "name": "ipython",
    "version": 3
   },
   "file_extension": ".py",
   "mimetype": "text/x-python",
   "name": "python",
   "nbconvert_exporter": "python",
   "pygments_lexer": "ipython3",
   "version": "3.10.0"
  }
 },
 "nbformat": 4,
 "nbformat_minor": 2
}
